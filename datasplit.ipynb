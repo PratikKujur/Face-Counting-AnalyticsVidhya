{
 "cells": [
  {
   "cell_type": "code",
   "execution_count": 1,
   "metadata": {},
   "outputs": [],
   "source": [
    "import os\n",
    "import random\n",
    "import shutil\n",
    "import yaml"
   ]
  },
  {
   "cell_type": "code",
   "execution_count": 3,
   "metadata": {},
   "outputs": [],
   "source": [
    "# Define paths\n",
    "images_dir = \"annotated_images/\"  # Directory containing annotated images\n",
    "labels_dir = \"labels/\"            # Directory containing label .txt files\n",
    "train_images_dir = \"dataset/images/train/\"\n",
    "val_images_dir = \"dataset/images/val/\"\n",
    "train_labels_dir = \"dataset/labels/train/\"\n",
    "val_labels_dir = \"dataset/labels/val/\""
   ]
  },
  {
   "cell_type": "code",
   "execution_count": 4,
   "metadata": {},
   "outputs": [],
   "source": [
    "# Create directories if they don't exist\n",
    "os.makedirs(train_images_dir, exist_ok=True)\n",
    "os.makedirs(val_images_dir, exist_ok=True)\n",
    "os.makedirs(train_labels_dir, exist_ok=True)\n",
    "os.makedirs(val_labels_dir, exist_ok=True)"
   ]
  },
  {
   "cell_type": "code",
   "execution_count": 5,
   "metadata": {},
   "outputs": [],
   "source": [
    "all_images = [f for f in os.listdir(images_dir) if f.endswith('.jpg')]\n",
    "random.shuffle(all_images)"
   ]
  },
  {
   "cell_type": "code",
   "execution_count": 6,
   "metadata": {},
   "outputs": [],
   "source": [
    "# Split into train and validation sets (80-20 split)\n",
    "train_split = int(0.8 * len(all_images))\n",
    "train_images = all_images[:train_split]\n",
    "val_images = all_images[train_split:]"
   ]
  },
  {
   "cell_type": "code",
   "execution_count": 7,
   "metadata": {},
   "outputs": [],
   "source": [
    "def copy_files(images, src_images_dir, src_labels_dir, dest_images_dir, dest_labels_dir):\n",
    "    for image_name in images:\n",
    "        # Copy image file\n",
    "        src_image_path = os.path.join(src_images_dir, image_name)\n",
    "        dest_image_path = os.path.join(dest_images_dir, image_name)\n",
    "        shutil.copy(src_image_path, dest_image_path)\n",
    "        \n",
    "        # Copy label file\n",
    "        label_name = os.path.splitext(image_name)[0] + \".txt\"\n",
    "        src_label_path = os.path.join(src_labels_dir, label_name)\n",
    "        dest_label_path = os.path.join(dest_labels_dir, label_name)\n",
    "        if os.path.exists(src_label_path):\n",
    "            shutil.copy(src_label_path, dest_label_path)"
   ]
  },
  {
   "cell_type": "code",
   "execution_count": 8,
   "metadata": {},
   "outputs": [],
   "source": [
    "# Copy training and validation images and labels\n",
    "copy_files(train_images, images_dir, labels_dir, train_images_dir, train_labels_dir)\n",
    "copy_files(val_images, images_dir, labels_dir, val_images_dir, val_labels_dir)"
   ]
  },
  {
   "cell_type": "code",
   "execution_count": 9,
   "metadata": {},
   "outputs": [],
   "source": [
    "# Create the data.yaml file\n",
    "data_config = {\n",
    "    'train': os.path.abspath(train_images_dir),\n",
    "    'val': os.path.abspath(val_images_dir),\n",
    "    'nc': 1,  # Number of classes\n",
    "    'names': ['face']  # Class name\n",
    "}"
   ]
  },
  {
   "cell_type": "code",
   "execution_count": 10,
   "metadata": {},
   "outputs": [
    {
     "name": "stdout",
     "output_type": "stream",
     "text": [
      "Dataset split and data.yaml file created successfully.\n"
     ]
    }
   ],
   "source": [
    "# Write to data.yaml\n",
    "with open(\"data.yaml\", \"w\") as yaml_file:\n",
    "    yaml.dump(data_config, yaml_file)\n",
    "\n",
    "print(\"Dataset split and data.yaml file created successfully.\")"
   ]
  }
 ],
 "metadata": {
  "kernelspec": {
   "display_name": ".venv",
   "language": "python",
   "name": "python3"
  },
  "language_info": {
   "codemirror_mode": {
    "name": "ipython",
    "version": 3
   },
   "file_extension": ".py",
   "mimetype": "text/x-python",
   "name": "python",
   "nbconvert_exporter": "python",
   "pygments_lexer": "ipython3",
   "version": "3.8.0"
  }
 },
 "nbformat": 4,
 "nbformat_minor": 2
}
